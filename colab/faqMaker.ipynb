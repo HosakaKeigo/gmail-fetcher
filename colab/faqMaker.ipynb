{
  "nbformat": 4,
  "nbformat_minor": 0,
  "metadata": {
    "colab": {
      "provenance": [],
      "include_colab_link": true
    },
    "kernelspec": {
      "name": "python3",
      "display_name": "Python 3"
    },
    "language_info": {
      "name": "python"
    }
  },
  "cells": [
    {
      "cell_type": "markdown",
      "metadata": {
        "id": "view-in-github",
        "colab_type": "text"
      },
      "source": [
        "<a href=\"https://colab.research.google.com/github/HosakaKeigo/gmail-fetcher/blob/main/colab/faqMaker.ipynb\" target=\"_parent\"><img src=\"https://colab.research.google.com/assets/colab-badge.svg\" alt=\"Open In Colab\"/></a>"
      ]
    },
    {
      "cell_type": "markdown",
      "source": [
        "# 事前準備\n",
        "- Vertex AIを有効化したGoogle Cloud Project\n",
        "- Colabを実行するアカウントへのVertex AI Userを付与"
      ],
      "metadata": {
        "id": "YgZKzK8M_AMC"
      }
    },
    {
      "cell_type": "code",
      "source": [
        "# config\n",
        "GOOGLE_CLOUD_PROJECT_ID = \"YOUR GOOGLE CLOUD PROJECT ID\"\n",
        "GEMINI_MODEL = \"gemini-2.5-flash-preview-05-20\"\n",
        "\n",
        "# Apps Scriptを紐付けたシート\n",
        "SHEET_ID = \"YOUR SPEREAD_SHEET_ID\"\n",
        "FAQ_SHEET_NAME = \"FAQ\"\n",
        "\n",
        "# カラム指定\n",
        "THREAD_ID_COLUMN = 1\n",
        "MAIL_COLUMN = 3\n",
        "\n",
        "# 処理したFAQの保存シート\n",
        "FAQ_SHEET_NAME_PROCESSED = \"processed\"\n",
        "\n",
        "# 処理したThreadのIDを保存するシート\n",
        "INDEX_SHEET = \"indexed\""
      ],
      "metadata": {
        "id": "Zx_DckFk7z4C"
      },
      "execution_count": null,
      "outputs": []
    },
    {
      "cell_type": "code",
      "execution_count": null,
      "metadata": {
        "id": "27yasaKEIit2"
      },
      "outputs": [],
      "source": [
        "%pip install genai"
      ]
    },
    {
      "cell_type": "code",
      "source": [
        "SYSTEM_PROMPT = \"\"\"あなたはFAQマニュアル作成アシスタントです。お問い合わせをもとに、一般化したFAQマニュアルを作成と、返信文面のマスキングを行なってください。\n",
        "\n",
        "## FAQマニュアル作成手順\n",
        "1. メールのやり取りを確認してください。\n",
        "2. メールの内容から以下を抽出してください。\n",
        "  - 質問内容（question）\n",
        "  - 対応内容(todo)\n",
        "    - 返信するまでに確認するべき事項・対応すべき事項を抽出してください。\n",
        "    - なるべくmarkdownのリスト形式で、手順がわかりやすいようにしてください。\n",
        "3. 返信文面のマスキングを行なってください。\n",
        "\n",
        "## FAQマニュアル作成のポイント\n",
        "- FAQマニュアルは、お問い合わせ内容を一般化したものです。個人名などの個人情報・個別情報は決して含めないでください。\n",
        "- マニュアルに相応しい明確で簡潔な文体を心がけてください。\n",
        "- 返信文面例は、実際の返信文面を抽象化して作成してください。\n",
        "\n",
        "## 返信文面のマスキング\n",
        "返信文面に対して以下を行なってください。\n",
        "\n",
        "- 宛名などの個人名は「◆◆◆」で置き換えてください。\n",
        "- 事例によって回答が異なる箇所は、<項目名>というプレースホルダを用いてください。\n",
        "- その他については、オリジナルの文面を極力保ってください。\n",
        "\n",
        "## 回答の形式\n",
        "以下のJSON形式で回答を提出してください。\n",
        "\n",
        "\\`\\`\\`json\n",
        "{\n",
        "  \"question\": \"質問内容。対応が変わる可能性がある条件は明記すること。\",\n",
        "  \"todo\": \"対応内容\",\n",
        "  \"reply\": \"返信例文。実際の返信文から個人情報をマスキングしたもの。\"\n",
        "}\n",
        "\\`\\`\\`\n",
        "\n",
        "それでは、お問い合わせ文面を与えます。\"\"\""
      ],
      "metadata": {
        "id": "A0DHHyuqItkb"
      },
      "execution_count": null,
      "outputs": []
    },
    {
      "cell_type": "code",
      "source": [
        "import re\n",
        "\n",
        "def mask_email(email_body: str) -> str:\n",
        "    \"\"\"\n",
        "    文字列内のメールアドレスを「◆◆◆」に置換してマスクする関数。\n",
        "\n",
        "    Args:\n",
        "        email_body (str): 入力文字列（メール本文など）\n",
        "\n",
        "    Returns:\n",
        "        str: メールアドレスがマスクされた文字列\n",
        "    \"\"\"\n",
        "    pattern = r'\\b[a-zA-Z0-9_.+-]+@[a-zA-Z0-9-]+\\.[a-zA-Z0-9-.]+\\b'\n",
        "    return re.sub(pattern, \"◆◆◆\", email_body)"
      ],
      "metadata": {
        "id": "uw6SzP2nMxfM"
      },
      "execution_count": null,
      "outputs": []
    },
    {
      "cell_type": "code",
      "source": [
        "import os\n",
        "from google import genai\n",
        "from google.colab import userdata, auth\n",
        "from pydantic import BaseModel\n",
        "import json\n",
        "\n",
        "class FAQ(BaseModel):\n",
        "    question: str\n",
        "    todo: str\n",
        "    reply: str\n",
        "\n",
        "# Require Vertex AI User Role\n",
        "auth.authenticate_user(\n",
        "    project_id=GOOGLE_CLOUD_PROJECT_ID\n",
        ")\n",
        "\n",
        "def extract_faq(contents: str) -> str:\n",
        "    client = genai.Client(\n",
        "        vertexai=True,\n",
        "        project=GOOGLE_CLOUD_PROJECT_ID,\n",
        "        location='us-central1'\n",
        "    )\n",
        "\n",
        "    try:\n",
        "        response = client.models.generate_content(\n",
        "          model=GEMINI_MODEL,\n",
        "          contents=mask_email(contents),\n",
        "          config=genai.types.GenerateContentConfig(\n",
        "              system_instruction=SYSTEM_PROMPT,\n",
        "              temperature=0,\n",
        "              response_mime_type='application/json',\n",
        "              response_schema=FAQ,\n",
        "          ),\n",
        "        )\n",
        "        return json.loads(response.text)\n",
        "    except Exception as e:\n",
        "        print(e)\n",
        "        return"
      ],
      "metadata": {
        "id": "kRMfm0NUI1pN"
      },
      "execution_count": null,
      "outputs": []
    },
    {
      "cell_type": "code",
      "source": [
        "# Sheet\n",
        "from typing import List\n",
        "import gspread\n",
        "from google.auth import default\n",
        "creds, _ = default()\n",
        "\n",
        "gc = gspread.authorize(creds)\n",
        "ss = gc.open_by_key(SHEET_ID)\n",
        "faq_sheet = ss.worksheet(FAQ_SHEET_NAME)\n",
        "processed_sheet = ss.worksheet(FAQ_SHEET_NAME_PROCESSED)\n",
        "indexed_sheet = ss.worksheet(INDEX_SHEET)\n",
        "\n",
        "def get_faqs():\n",
        "    try:\n",
        "        values = faq_sheet.get_all_values()\n",
        "\n",
        "        # Skip header row\n",
        "        if len(values) > 0:\n",
        "            return values[1:]\n",
        "        return []\n",
        "\n",
        "    except Exception as e:\n",
        "        print(f\"Error retrieving FAQs: {str(e)}\")\n",
        "        return []\n",
        "\n",
        "\n",
        "def append_faq(rows: List[FAQ]):\n",
        "    processed_sheet.append_rows(rows)\n",
        "\n",
        "def append_indexed(filenames:List[List[str]]):\n",
        "    indexed_sheet.append_rows(filenames)\n",
        "\n",
        "def get_indexed_files() -> List[str]:\n",
        "    return indexed_sheet.col_values(1)"
      ],
      "metadata": {
        "id": "8NbLIyFqQTUx"
      },
      "execution_count": null,
      "outputs": []
    },
    {
      "cell_type": "code",
      "source": [
        "from typing import List\n",
        "import json\n",
        "from pydantic import BaseModel\n",
        "from time import sleep\n",
        "\n",
        "BATCH_SIZE = 5\n",
        "\n",
        "def process_mail_faqs():\n",
        "    batch_rows = []\n",
        "    batch_indexed_files = []\n",
        "\n",
        "    faq_rows = get_faqs()\n",
        "\n",
        "    # すでに処理済みのThreadはスキップ\n",
        "    indexed_files = get_indexed_files()\n",
        "\n",
        "    for row in faq_rows:\n",
        "        thread_id = row[THREAD_ID_COLUMN]\n",
        "        if thread_id in indexed_files:\n",
        "            print(f\"Skipping row with ID {thread_id} as it has already been processed.\")\n",
        "            continue\n",
        "        mail_content = row[MAIL_COLUMN]\n",
        "        if not mail_content:\n",
        "            print(f\"Skipping row with ID {thread_id} as mail content is empty.\")\n",
        "            continue\n",
        "\n",
        "        try:\n",
        "            faq_response = extract_faq(mail_content)\n",
        "            sleep(5)  # API制限対策\n",
        "\n",
        "            batch_rows.append([\n",
        "                faq_response[\"question\"],\n",
        "                faq_response[\"todo\"],\n",
        "                faq_response[\"reply\"],\n",
        "            ])\n",
        "\n",
        "            batch_indexed_files.append([row[THREAD_ID_COLUMN]])  # 1列目をIDとして使用\n",
        "\n",
        "            # 効率化のためにBatch処理\n",
        "            if len(batch_rows) >= BATCH_SIZE:\n",
        "                print(\"Appending rows to spreadsheet...\")\n",
        "                append_faq(batch_rows)\n",
        "                append_indexed(batch_indexed_files)\n",
        "                batch_rows = []\n",
        "                batch_indexed_files = []\n",
        "\n",
        "        except Exception as e:\n",
        "            print(f\"Error processing row: {str(e)}\")\n",
        "            continue\n",
        "\n",
        "    # 残りのバッチを処理\n",
        "    if batch_rows:\n",
        "        print(\"Appending rows to spreadsheet...\")\n",
        "        append_faq(batch_rows)\n",
        "\n",
        "    if batch_indexed_files:\n",
        "        append_indexed(batch_indexed_files)"
      ],
      "metadata": {
        "id": "10-7xpwxSAfv"
      },
      "execution_count": null,
      "outputs": []
    },
    {
      "cell_type": "code",
      "source": [
        "# 実行\n",
        "process_mail_faqs()"
      ],
      "metadata": {
        "id": "ddAEt5JXWP7O"
      },
      "execution_count": null,
      "outputs": []
    }
  ]
}